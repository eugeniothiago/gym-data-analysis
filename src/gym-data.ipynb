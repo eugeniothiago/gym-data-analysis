{
 "cells": [
  {
   "cell_type": "code",
   "execution_count": 4,
   "metadata": {},
   "outputs": [],
   "source": [
    "import pandas as pd\n",
    "import numpy as np\n",
    "import plotly.express as px\n",
    "import os\n",
    "import streamlit as st\n",
    "import sqlite3\n",
    "from dotenv import load_dotenv\n",
    "from unidecode import unidecode\n",
    "from itertools import repeat\n",
    "\n",
    "load_dotenv()\n",
    "\n",
    "db_connection = sqlite3.connect(f\"{os.environ.get('DB_PATH')}\")\n",
    "db_cursor = db_connection.cursor()\n",
    "\n",
    "\n",
    "def create_sheets_link():\n",
    "    sheet_id = os.environ.get(\"SHEET_ID\")\n",
    "    page_name = os.environ.get(\"PAGE_NAME\")\n",
    "    complete_url = f\"https://docs.google.com/spreadsheets/d/{sheet_id}/gviz/tq?tqx=out:csv&sheet={page_name}\"\n",
    "    return complete_url\n",
    "\n",
    "\n",
    "def retrieve_sheets_data() -> pd.DataFrame:\n",
    "    df = pd.read_csv(create_sheets_link())\n",
    "    df[df.select_dtypes(include=\"float\").columns] = df[\n",
    "        df.select_dtypes(include=\"float\").columns\n",
    "    ].fillna(0)\n",
    "    df.columns = [\n",
    "        unidecode(col.lower().replace(\" \", \"_\").replace(\"\\n\", \"\"))\n",
    "        for col in df.columns.tolist()\n",
    "    ]\n",
    "    df = df.drop(\"volume_total\", axis=1)\n",
    "    df[\"series_personalizadas\"] = df[\"series_personalizadas\"].fillna(\"0\")\n",
    "    df[\"series_personalizadas_calculadas\"] = (\n",
    "        df[\"series_personalizadas\"]\n",
    "        .apply(lambda x: eval(str(x).replace(\"x\", \"*\")))\n",
    "        .apply(lambda x: sum(x) if type(x) != int else x)\n",
    "    )\n",
    "    df[\"volume_total_kg\"] = (df[\"series\"] * df[\"repeticoes\"] * df[\"peso\"]) + df[\n",
    "        \"series_personalizadas_calculadas\"\n",
    "    ]\n",
    "    df[\"dia\"] = df[\"dia\"].fillna(method=\"ffill\")\n",
    "    return df\n",
    "\n",
    "\n",
    "def save_df_to_db(df: pd.DataFrame, db_connection) -> None:\n",
    "    df.to_sql(\"gym_data\", db_connection, if_exists=\"replace\", index=False)\n",
    "\n",
    "\n",
    "df = retrieve_sheets_data()\n",
    "save_df_to_db(df=df, db_connection=db_connection)"
   ]
  },
  {
   "cell_type": "code",
   "execution_count": null,
   "metadata": {},
   "outputs": [],
   "source": [
    "drop_table_string = f\"\"\"DROP TABLE IF EXISTS gym_data\"\"\"\n",
    "create_table_string = f\"\"\"\n",
    "CREATE TABLE IF NOT EXISTS gym_data{tuple(df.columns)}\"\"\"\n",
    "values_binding = tuple(repeat(\"?\", len(list(df.columns))))\n",
    "data = list(df.to_records(index=False))\n",
    "db_cursor.execute(drop_table_string)\n",
    "db_connection.commit()\n",
    "db_cursor.execute(create_table_string)\n",
    "db_connection.commit()\n",
    "for row in data:\n",
    "    db_cursor.execute(f\"INSERT INTO gym_data VALUES {row}\")\n",
    "# db_cursor.executemany(f\"INSERT INTO gym_data VALUES ('?', '?', '?', '?', '?', '?', '?', '?', '?', '?') ;\",(data,))\n",
    "db_connection.commit()"
   ]
  },
  {
   "cell_type": "code",
   "execution_count": 6,
   "metadata": {},
   "outputs": [
    {
     "data": {
      "text/plain": [
       "[(0, 'dia', 'TEXT', 0, None, 0),\n",
       " (1, 'grupo_geral', 'TEXT', 0, None, 0),\n",
       " (2, 'grupo_secundario', 'TEXT', 0, None, 0),\n",
       " (3, 'exercicio', 'TEXT', 0, None, 0),\n",
       " (4, 'series', 'REAL', 0, None, 0),\n",
       " (5, 'repeticoes', 'REAL', 0, None, 0),\n",
       " (6, 'peso', 'REAL', 0, None, 0),\n",
       " (7, 'series_personalizadas', 'TEXT', 0, None, 0),\n",
       " (8, 'series_personalizadas_calculadas', 'INTEGER', 0, None, 0),\n",
       " (9, 'volume_total_kg', 'REAL', 0, None, 0)]"
      ]
     },
     "execution_count": 6,
     "metadata": {},
     "output_type": "execute_result"
    }
   ],
   "source": [
    "db_cursor.execute(\"PRAGMA table_info(gym_data)\")\n",
    "db_connection.commit()\n",
    "db_cursor.fetchall()"
   ]
  },
  {
   "attachments": {},
   "cell_type": "markdown",
   "metadata": {},
   "source": [
    "Peso médio total por grupamento geral:"
   ]
  },
  {
   "cell_type": "code",
   "execution_count": 8,
   "metadata": {},
   "outputs": [
    {
     "data": {
      "text/plain": [
       "grupo_geral\n",
       "A    2276.24\n",
       "B    2808.88\n",
       "C    1122.86\n",
       "dtype: float64"
      ]
     },
     "execution_count": 8,
     "metadata": {},
     "output_type": "execute_result"
    }
   ],
   "source": [
    "(\n",
    "    df.groupby(\"grupo_geral\")[\"volume_total_kg\"].sum()\n",
    "    / df.groupby(\"grupo_geral\").size()\n",
    ").round(2)"
   ]
  },
  {
   "attachments": {},
   "cell_type": "markdown",
   "metadata": {},
   "source": [
    "Volume médio por grupamento secundario:"
   ]
  },
  {
   "cell_type": "code",
   "execution_count": 9,
   "metadata": {},
   "outputs": [
    {
     "data": {
      "text/plain": [
       "grupo_secundario\n",
       "Antebraços    1400.00\n",
       "Costas        2182.62\n",
       "Ombros        1015.00\n",
       "Peito         2359.44\n",
       "Pernas        2808.88\n",
       "Triceps       1200.00\n",
       "dtype: float64"
      ]
     },
     "execution_count": 9,
     "metadata": {},
     "output_type": "execute_result"
    }
   ],
   "source": [
    "(\n",
    "    df.groupby(\"grupo_secundario\")[\"volume_total_kg\"].sum()\n",
    "    / df.groupby(\"grupo_secundario\").size()\n",
    ").round(2)"
   ]
  },
  {
   "cell_type": "code",
   "execution_count": 12,
   "metadata": {},
   "outputs": [
    {
     "name": "stdout",
     "output_type": "stream",
     "text": [
      "FPS mínimo médio GTX 1660 Super 6gb: 69.25\n",
      "        \n",
      " FPS mínimo médio RTX 2060 Super 8gb: 91.08\n",
      "Variação percentual de performance RTX 2060S vs GTX 1660S: 31.52%\n",
      "Variação percentual de preço RTX 2060S vs GTX 1660S: 57.01%\n"
     ]
    }
   ],
   "source": [
    "gtx_1660 = [134, 38, 88, 77, 88, 36, 103, 44, 63, 62, 38, 60]\n",
    "rtx_2660 = [182, 57, 111, 93, 127, 49, 138, 62, 87, 70, 48, 69]\n",
    "mean_fps_gtx_1660 = round(sum(gtx_1660) / len(gtx_1660), 2)\n",
    "mean_fps_rtx_2060 = round(sum(rtx_2660) / len(rtx_2660), 2)\n",
    "print(\n",
    "    f\"\"\"FPS mínimo médio GTX 1660 Super 6gb: {mean_fps_gtx_1660}\n",
    "        \\n FPS mínimo médio RTX 2060 Super 8gb: {mean_fps_rtx_2060}\"\"\"\n",
    ")\n",
    "performance_variation = round(((mean_fps_rtx_2060 / mean_fps_gtx_1660) - 1) * 100, 2)\n",
    "print(\n",
    "    f\"Variação percentual de performance RTX 2060S vs GTX 1660S: {performance_variation}%\"\n",
    ")\n",
    "gtx_1600_price = 715.29\n",
    "rtx_2060_price = 1123.10\n",
    "price_variation = round((rtx_2060_price / gtx_1600_price - 1) * 100, 2)\n",
    "print(f\"Variação percentual de preço RTX 2060S vs GTX 1660S: {price_variation}%\")"
   ]
  }
 ],
 "metadata": {
  "kernelspec": {
   "display_name": "Python 3.10.8 ('data')",
   "language": "python",
   "name": "python3"
  },
  "language_info": {
   "codemirror_mode": {
    "name": "ipython",
    "version": 3
   },
   "file_extension": ".py",
   "mimetype": "text/x-python",
   "name": "python",
   "nbconvert_exporter": "python",
   "pygments_lexer": "ipython3",
   "version": "3.10.8"
  },
  "orig_nbformat": 4,
  "vscode": {
   "interpreter": {
    "hash": "cfa01660a05c29b8c769b26491cd3438bef940aaafc404eeae248bf01f0a60f1"
   }
  }
 },
 "nbformat": 4,
 "nbformat_minor": 2
}
